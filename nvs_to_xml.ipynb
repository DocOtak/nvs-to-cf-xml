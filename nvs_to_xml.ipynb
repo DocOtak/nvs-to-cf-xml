{
 "cells": [
  {
   "cell_type": "markdown",
   "id": "6740aafa-3178-47a4-83b1-1410888cc957",
   "metadata": {},
   "source": [
    "# NVS P07 and P06 to the CF Standard Names XML\n",
    "\n",
    "This is the the first attempt and creating the standard name table from information contained only within NVS (and some units mappings). Note that I did not use any sort of JSON-LD or RDF library, this was directly manipulating the JSON-LD. This is mostly due to my inexperience with these types of libraries. I found this manipulation to be very easy with the exception of sorting out the aliases, but I suspect an RDF library would not have helped much in the problem I encountered."
   ]
  },
  {
   "cell_type": "markdown",
   "id": "84ab45ff-c02a-4bd6-b76b-7e835cf218fe",
   "metadata": {},
   "source": [
    "Simple imports to start with... except for cfunits and requests, this is all standard library, if trying to run this in another environment, you might need to manipulate how cfunits is doing stuff."
   ]
  },
  {
   "cell_type": "code",
   "execution_count": 1,
   "id": "9dc85c70-fc99-4c22-9f52-672881e3cdf9",
   "metadata": {},
   "outputs": [],
   "source": [
    "import requests as rq\n",
    "import xml.etree.ElementTree as ET\n",
    "from datetime import datetime\n",
    "from collections import defaultdict\n",
    "\n",
    "# if testing for udunits2, this is very specific to mac os and how homebrew does stuff on arm macs\n",
    "import os\n",
    "os.environ[\"DYLD_LIBRARY_PATH\"] = \"/opt/homebrew/Cellar/udunits/2.2.28/lib/\"\n",
    "from cfunits import Units"
   ]
  },
  {
   "cell_type": "markdown",
   "id": "30f131aa-696e-4f7d-b805-e9f9148ee7b9",
   "metadata": {},
   "source": [
    "These are the URIs at nerc for the nvs. Note that I'm using the accept header to ask for the JSON-LD and not some specific URI, query params I think are used in the NVS links on the landing pages."
   ]
  },
  {
   "cell_type": "code",
   "execution_count": 2,
   "id": "284113f1-d345-4c69-bcb0-5b83213e2b4f",
   "metadata": {},
   "outputs": [],
   "source": [
    "P07 = \"http://vocab.nerc.ac.uk/collection/P07/current/\" # CF Standard Names\n",
    "P06 = \"http://vocab.nerc.ac.uk/collection/P06/current/\" # Units"
   ]
  },
  {
   "cell_type": "code",
   "execution_count": 3,
   "id": "4f15dfb6-bbe0-48e7-9e91-026bd8cb5afe",
   "metadata": {},
   "outputs": [],
   "source": [
    "headers = {\"Accept\": \"application/ld+json\"}"
   ]
  },
  {
   "cell_type": "code",
   "execution_count": 4,
   "id": "e25847ab-7ec6-4740-ae02-cb567a63e419",
   "metadata": {},
   "outputs": [],
   "source": [
    "p07_ld = rq.get(P07, headers=headers).json()\n",
    "p06_ld = rq.get(P06, headers=headers).json()"
   ]
  },
  {
   "cell_type": "code",
   "execution_count": 5,
   "id": "964a5d17-c53f-4d0d-b1d7-6b198fc51779",
   "metadata": {},
   "outputs": [],
   "source": [
    "p06_ld_by_id = {item[\"@id\"]:item for item in p06_ld[\"@graph\"]}"
   ]
  },
  {
   "cell_type": "code",
   "execution_count": 6,
   "id": "ded0d3b2-4365-4d62-b06d-0f77204b08c8",
   "metadata": {},
   "outputs": [],
   "source": [
    "#extract collection information, seperate active names and aliases\n",
    "collection_info = None\n",
    "standard_names = {}\n",
    "deprecated = {}\n",
    "for node in p07_ld[\"@graph\"]:\n",
    "    if node[\"@id\"] == P07:\n",
    "        collection_info = node\n",
    "    elif node[\"owl:deprecated\"] == \"true\":\n",
    "        deprecated[node[\"@id\"]] = node\n",
    "    elif node[\"owl:deprecated\"] == \"false\":\n",
    "        standard_names[node[\"@id\"]] = node"
   ]
  },
  {
   "cell_type": "code",
   "execution_count": 7,
   "id": "bfc76e94-6a49-46b9-9fcb-65c9970f77ac",
   "metadata": {},
   "outputs": [],
   "source": [
    "# Make xml root\n",
    "root = ET.Element(\"standard_name_table\", {\"xmlns:xsi\":\"https://www.w3.org/2001/XMLSchema-instance\",\n",
    " \"xsi:noNamespaceSchemaLocation\":\"https://cfconventions.org/Data/schema-files/cf-standard-name-table-2.0.xsd\"})"
   ]
  },
  {
   "cell_type": "markdown",
   "id": "48989c87-b94b-4777-bbe1-25cc0ef96407",
   "metadata": {},
   "source": [
    "The xml is ordered as per Appendix B so the code must be in order. The following is missing from NVS itself:\n",
    "* first_published\n",
    "* contact\n",
    "\n",
    "The institution value differs from what is in the online published xml"
   ]
  },
  {
   "cell_type": "code",
   "execution_count": 8,
   "id": "dd145cd7-a1a6-45cf-bc43-fa9694c3cc7f",
   "metadata": {},
   "outputs": [],
   "source": [
    "table_version = collection_info[\"owl:versionInfo\"]\n",
    "version_number = ET.SubElement(root, \"version_number\")\n",
    "version_number.text = table_version\n",
    "conventions = version_number = ET.SubElement(root, \"conventions\")\n",
    "conventions.text = f\"CF-StandardNameTable-{table_version}\"\n",
    "\n",
    "# There is only one time it seems, so using for both\n",
    "dt = datetime.strptime(collection_info[\"dc:date\"], \"%Y-%m-%d %H:%M:%S.%f\")\n",
    "time_str = dt.strftime(\"%Y-%m-%dT%H:%M:%SZ\")\n",
    "first_published = ET.SubElement(root, \"first_published\")\n",
    "first_published.text = time_str\n",
    "last_modified = ET.SubElement(root, \"last_modified\")\n",
    "last_modified.text = time_str\n",
    "\n",
    "institution = ET.SubElement(root, \"institution\")\n",
    "institution.text = collection_info[\"dc:creator\"]\n",
    "\n",
    "# There is no contact info in NVS\n",
    "contact = ET.SubElement(root, \"contact\")\n",
    "contact.text = \"support@ceda.ac.uk\""
   ]
  },
  {
   "cell_type": "markdown",
   "id": "0b59b2f6-f329-446d-8fde-a808aed21bfa",
   "metadata": {},
   "source": [
    "The following prepares a concept id to unit string mapping, I found the altLabel to be very close to udunits already and only had to have a few custom mappings (18 of em). This is used as a lookup table when writing the entry records.\n",
    "\n",
    "I suspect that using the P06 to QUDT relationship might allow this custom mapping to go away.\n",
    "\n",
    "**12 of the standard names contain no unit information at all** See the print output for which ones"
   ]
  },
  {
   "cell_type": "code",
   "execution_count": 9,
   "id": "14a85db4-048c-4607-b6ea-a57e6e0416ef",
   "metadata": {},
   "outputs": [
    {
     "name": "stdout",
     "output_type": "stream",
     "text": [
      "http://vocab.nerc.ac.uk/collection/P07/current/AKK6D0XA/ aerodynamic_resistance\n",
      "http://vocab.nerc.ac.uk/collection/P07/current/EQUNJT0R/ isotope_ratio_of_18O_to_16O_in_sea_water_excluding_solutes_and_solids\n",
      "http://vocab.nerc.ac.uk/collection/P07/current/CF12N559/ ocean_salt_x_transport\n",
      "http://vocab.nerc.ac.uk/collection/P07/current/CF12N560/ ocean_salt_y_transport\n",
      "http://vocab.nerc.ac.uk/collection/P07/current/OJUDV53W/ ratio_of_volume_extinction_coefficient_to_volume_backwards_scattering_coefficient_by_ranging_instrument_in_air_due_to_ambient_aerosol_particles\n",
      "http://vocab.nerc.ac.uk/collection/P07/current/4FD2J2GJ/ storm_motion_speed\n",
      "http://vocab.nerc.ac.uk/collection/P07/current/CF12N787/ tendency_of_sea_water_salinity\n",
      "http://vocab.nerc.ac.uk/collection/P07/current/CFV8N121/ tendency_of_sea_water_salinity_due_to_advection\n",
      "http://vocab.nerc.ac.uk/collection/P07/current/CFV8N123/ tendency_of_sea_water_salinity_due_to_horizontal_mixing\n",
      "http://vocab.nerc.ac.uk/collection/P07/current/CFV8N124/ tendency_of_sea_water_salinity_due_to_sea_ice_thermodynamics\n",
      "http://vocab.nerc.ac.uk/collection/P07/current/CFV8N125/ tendency_of_sea_water_salinity_due_to_vertical_mixing\n",
      "http://vocab.nerc.ac.uk/collection/P07/current/S7ROPP0K/ volume_fraction_of_oxygen_in_sea_floor_sediment_pore_water\n"
     ]
    }
   ],
   "source": [
    "names_no_units = []\n",
    "\n",
    "alt_to_udunits = { # hack to just... make thing valid for now, QUDT might be the actual way to do this\n",
    "    \"deg\": \"degree\",\n",
    "    \"Dmnless\": \"1\",\n",
    "    \"NA\": None,\n",
    "    # seems udunits2 doesn't like the / notation\n",
    "    \"/m\": \"m-1\",\n",
    "    \"/m^2\": \"m-2\",\n",
    "    \"/s\": \"s-1\",\n",
    "    \"/m^3/s\": \"m-3 s-1\",\n",
    "    \"/m^3\": \"m-3\",\n",
    "    \"/s^2\": \"s-2\",\n",
    "    \"deg/m\": \"degree m-1\",\n",
    "    \"#/m^3\": \"m-3\",\n",
    "    \"deg/s\": \"degree s-1\",\n",
    "    \"/m/sr\": \"m-1 sr-1\",\n",
    "    \"/m^2/s\": \"m-2 s-1\",\n",
    "    \"#/m^2\": \"m-2\",\n",
    "    \"/Pa/s\": \"Pa-1 s-1\",\n",
    "    \"/m/s\": \"m-1 s-1\",\n",
    "    \"/sr\": \"sr-1\",\n",
    "}\n",
    "\n",
    "def ensure_list(r):\n",
    "    if isinstance(r, list):\n",
    "        return r\n",
    "    return [r]\n",
    "\n",
    "canonical_units_dict = {}\n",
    "\n",
    "for id, name in sorted(standard_names.items(), key=lambda x: x[1][\"skos:prefLabel\"][\"@value\"]):\n",
    "    try:\n",
    "        related = name[\"skos:related\"]\n",
    "    except KeyError:\n",
    "        names_no_units.append(name)\n",
    "\n",
    "    for concept in ensure_list(related):\n",
    "        if not concept[\"@id\"].startswith(P06):\n",
    "            continue\n",
    "        unit = p06_ld_by_id[concept[\"@id\"]][\"skos:altLabel\"]\n",
    "    units = alt_to_udunits.get(unit, unit)\n",
    "    if units is not None:\n",
    "        canonical_units_dict[id] = units\n",
    "for name in names_no_units:\n",
    "    print(name[\"@id\"], name[\"skos:prefLabel\"][\"@value\"])"
   ]
  },
  {
   "cell_type": "markdown",
   "id": "e4b30efa-09aa-422e-8e22-7eaf97583461",
   "metadata": {},
   "source": [
    "This creates the standard name entries, NVS does not have GRIB or AIMP mappings so these nodes were added but no value set. There is some discussion to drop these from the standard name table so this might not be an issue later.\n",
    "\n",
    "This also asserts that all the units are valid udunit strings."
   ]
  },
  {
   "cell_type": "code",
   "execution_count": 10,
   "id": "749348ca-f8fa-4747-aa24-c27ff000186f",
   "metadata": {},
   "outputs": [],
   "source": [
    "# Put all the standard name entries in\n",
    "for id, name in sorted(standard_names.items(), key=lambda x: x[1][\"skos:prefLabel\"][\"@value\"]):\n",
    "    entry = ET.SubElement(root, \"entry\", id=name[\"skos:prefLabel\"][\"@value\"])\n",
    "    canonical_units = ET.SubElement(entry, \"canonical_units\")\n",
    "    if (units := canonical_units_dict.get(id)) is not None:\n",
    "        canonical_units.text = units\n",
    "        assert Units(units).isvalid\n",
    "    grib = ET.SubElement(entry, \"grib\") # NVS Does not have GRIB\n",
    "    amip = ET.SubElement(entry, \"amip\") # NVS Does not have AIMP\n",
    "    description = ET.SubElement(entry, \"description\")\n",
    "    try:\n",
    "        description.text = name[\"skos:definition\"][\"@value\"]\n",
    "    except TypeError:\n",
    "        description.text = \"\""
   ]
  },
  {
   "cell_type": "markdown",
   "id": "d7af470e-c1c5-4565-9ee4-813195f85493",
   "metadata": {},
   "source": [
    "I found aliases to be a bit of a mess and this output is probably incomplete. NVS has many deprecated terms. I initially started with the assumption that ever deprecated term needs an alias entry. Not every deprecated term has an \"isReplacedBy\" property. Through a bunch of playing around, I found it easiest to check the list of non-deprecated standard names for their \"sameAs\" property and checked those if they were in the deprecated terms list. Some deprecated terms were replaced by other terms that themselves got deprecated, when writing code that tried to walk this tree/graph, I hit cycles and opted for the following simple but likely incomplete impliemnation"
   ]
  },
  {
   "cell_type": "code",
   "execution_count": 11,
   "id": "48bbb8e3-ddd6-4aa8-a2cf-653cfd90db49",
   "metadata": {},
   "outputs": [],
   "source": [
    "# Sort out aliases\n",
    "aliases = defaultdict(list)\n",
    "for id, name in sorted(standard_names.items(), key=lambda x: x[1][\"skos:prefLabel\"][\"@value\"]):\n",
    "    #alias = ET.SubElement(root, \"alias\", id=name[\"skos:prefLabel\"][\"@value\"])\n",
    "    sameAs = name[\"owl:sameAs\"]\n",
    "    if isinstance(sameAs, list):\n",
    "        for same in sameAs:\n",
    "            if same[\"@id\"] in deprecated:\n",
    "                aliases[same[\"@id\"]].append(name[\"@id\"])\n",
    "    else:\n",
    "        # in testing this never got hit as a condition\n",
    "        if sameAs[\"@id\"] in deprecated:\n",
    "            print(sameAs[\"@id\"])\n",
    "\n",
    "# looping though deprecated this was so the alias list is osrted by id\n",
    "for id, name in sorted(deprecated.items(), key=lambda x: x[1][\"skos:prefLabel\"][\"@value\"]):\n",
    "    if id in aliases:\n",
    "        alias = ET.SubElement(root, \"alias\", id=name[\"skos:prefLabel\"][\"@value\"])\n",
    "        for entry in aliases[id]:\n",
    "            entry_id = ET.SubElement(alias, \"entry_id\")\n",
    "            entry_id.text = standard_names[entry][\"skos:prefLabel\"][\"@value\"]"
   ]
  },
  {
   "cell_type": "code",
   "execution_count": 12,
   "id": "b69cfddf-0913-4da7-9f30-b6a76c88c357",
   "metadata": {},
   "outputs": [],
   "source": [
    "ET.indent(root)\n",
    "tree = ET.ElementTree(root)"
   ]
  },
  {
   "cell_type": "code",
   "execution_count": 13,
   "id": "8dce92e4-b61e-4428-a616-6449c79c2933",
   "metadata": {},
   "outputs": [],
   "source": [
    "tree.write(\"nvs-to-std-names.xml\", xml_declaration=True)"
   ]
  },
  {
   "cell_type": "code",
   "execution_count": null,
   "id": "e3fe747e-9ef4-4b56-ad41-772a8fbb9b8d",
   "metadata": {},
   "outputs": [],
   "source": []
  }
 ],
 "metadata": {
  "kernelspec": {
   "display_name": "Python 3 (ipykernel)",
   "language": "python",
   "name": "python3"
  },
  "language_info": {
   "codemirror_mode": {
    "name": "ipython",
    "version": 3
   },
   "file_extension": ".py",
   "mimetype": "text/x-python",
   "name": "python",
   "nbconvert_exporter": "python",
   "pygments_lexer": "ipython3",
   "version": "3.12.3"
  }
 },
 "nbformat": 4,
 "nbformat_minor": 5
}
